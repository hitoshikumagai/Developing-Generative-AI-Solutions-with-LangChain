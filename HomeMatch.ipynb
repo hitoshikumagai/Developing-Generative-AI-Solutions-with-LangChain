{
  "cells": [
    {
      "cell_type": "markdown",
      "id": "a108af04",
      "metadata": {
        "id": "a108af04"
      },
      "source": [
        "## Step 1: Setting Up the Python Application\n",
        "\n",
        "In this project, I used google google colaboratory.\n",
        "Before continue to see AI response, you need to install library. Detail is below.\n",
        "* langchain\n",
        "* langchain-openai\n",
        "* langchain_community\n",
        "* langchain_core\n",
        "* chromadb"
      ]
    },
    {
      "cell_type": "code",
      "execution_count": null,
      "id": "ed9b1ce7",
      "metadata": {
        "colab": {
          "base_uri": "https://localhost:8080/"
        },
        "id": "ed9b1ce7",
        "outputId": "45660180-eae3-4ee1-e283-ff5d1a7da036"
      },
      "outputs": [
        {
          "name": "stdout",
          "output_type": "stream",
          "text": [
            "Requirement already satisfied: langchain in /usr/local/lib/python3.10/dist-packages (0.2.1)\n",
            "Requirement already satisfied: langchain-openai in /usr/local/lib/python3.10/dist-packages (0.1.8)\n",
            "Requirement already satisfied: langchain_community in /usr/local/lib/python3.10/dist-packages (0.2.1)\n",
            "Requirement already satisfied: langchain_core in /usr/local/lib/python3.10/dist-packages (0.2.2)\n",
            "Requirement already satisfied: chromadb in /usr/local/lib/python3.10/dist-packages (0.5.0)\n",
            "Requirement already satisfied: PyYAML>=5.3 in /usr/local/lib/python3.10/dist-packages (from langchain) (6.0.1)\n",
            "Requirement already satisfied: SQLAlchemy<3,>=1.4 in /usr/local/lib/python3.10/dist-packages (from langchain) (2.0.30)\n",
            "Requirement already satisfied: aiohttp<4.0.0,>=3.8.3 in /usr/local/lib/python3.10/dist-packages (from langchain) (3.9.5)\n",
            "Requirement already satisfied: async-timeout<5.0.0,>=4.0.0 in /usr/local/lib/python3.10/dist-packages (from langchain) (4.0.3)\n",
            "Requirement already satisfied: langchain-text-splitters<0.3.0,>=0.2.0 in /usr/local/lib/python3.10/dist-packages (from langchain) (0.2.0)\n",
            "Requirement already satisfied: langsmith<0.2.0,>=0.1.17 in /usr/local/lib/python3.10/dist-packages (from langchain) (0.1.63)\n",
            "Requirement already satisfied: numpy<2,>=1 in /usr/local/lib/python3.10/dist-packages (from langchain) (1.25.2)\n",
            "Requirement already satisfied: pydantic<3,>=1 in /usr/local/lib/python3.10/dist-packages (from langchain) (2.7.1)\n",
            "Requirement already satisfied: requests<3,>=2 in /usr/local/lib/python3.10/dist-packages (from langchain) (2.31.0)\n",
            "Requirement already satisfied: tenacity<9.0.0,>=8.1.0 in /usr/local/lib/python3.10/dist-packages (from langchain) (8.3.0)\n",
            "Requirement already satisfied: openai<2.0.0,>=1.26.0 in /usr/local/lib/python3.10/dist-packages (from langchain-openai) (1.30.4)\n",
            "Requirement already satisfied: tiktoken<1,>=0.7 in /usr/local/lib/python3.10/dist-packages (from langchain-openai) (0.7.0)\n",
            "Requirement already satisfied: dataclasses-json<0.7,>=0.5.7 in /usr/local/lib/python3.10/dist-packages (from langchain_community) (0.6.6)\n",
            "Requirement already satisfied: jsonpatch<2.0,>=1.33 in /usr/local/lib/python3.10/dist-packages (from langchain_core) (1.33)\n",
            "Requirement already satisfied: packaging<24.0,>=23.2 in /usr/local/lib/python3.10/dist-packages (from langchain_core) (23.2)\n",
            "Requirement already satisfied: build>=1.0.3 in /usr/local/lib/python3.10/dist-packages (from chromadb) (1.2.1)\n",
            "Requirement already satisfied: chroma-hnswlib==0.7.3 in /usr/local/lib/python3.10/dist-packages (from chromadb) (0.7.3)\n",
            "Requirement already satisfied: fastapi>=0.95.2 in /usr/local/lib/python3.10/dist-packages (from chromadb) (0.111.0)\n",
            "Requirement already satisfied: uvicorn[standard]>=0.18.3 in /usr/local/lib/python3.10/dist-packages (from chromadb) (0.30.0)\n",
            "Requirement already satisfied: posthog>=2.4.0 in /usr/local/lib/python3.10/dist-packages (from chromadb) (3.5.0)\n",
            "Requirement already satisfied: typing-extensions>=4.5.0 in /usr/local/lib/python3.10/dist-packages (from chromadb) (4.11.0)\n",
            "Requirement already satisfied: onnxruntime>=1.14.1 in /usr/local/lib/python3.10/dist-packages (from chromadb) (1.18.0)\n",
            "Requirement already satisfied: opentelemetry-api>=1.2.0 in /usr/local/lib/python3.10/dist-packages (from chromadb) (1.24.0)\n",
            "Requirement already satisfied: opentelemetry-exporter-otlp-proto-grpc>=1.2.0 in /usr/local/lib/python3.10/dist-packages (from chromadb) (1.24.0)\n",
            "Requirement already satisfied: opentelemetry-instrumentation-fastapi>=0.41b0 in /usr/local/lib/python3.10/dist-packages (from chromadb) (0.45b0)\n",
            "Requirement already satisfied: opentelemetry-sdk>=1.2.0 in /usr/local/lib/python3.10/dist-packages (from chromadb) (1.24.0)\n",
            "Requirement already satisfied: tokenizers>=0.13.2 in /usr/local/lib/python3.10/dist-packages (from chromadb) (0.19.1)\n",
            "Requirement already satisfied: pypika>=0.48.9 in /usr/local/lib/python3.10/dist-packages (from chromadb) (0.48.9)\n",
            "Requirement already satisfied: tqdm>=4.65.0 in /usr/local/lib/python3.10/dist-packages (from chromadb) (4.66.4)\n",
            "Requirement already satisfied: overrides>=7.3.1 in /usr/local/lib/python3.10/dist-packages (from chromadb) (7.7.0)\n",
            "Requirement already satisfied: importlib-resources in /usr/local/lib/python3.10/dist-packages (from chromadb) (6.4.0)\n",
            "Requirement already satisfied: grpcio>=1.58.0 in /usr/local/lib/python3.10/dist-packages (from chromadb) (1.64.0)\n",
            "Requirement already satisfied: bcrypt>=4.0.1 in /usr/local/lib/python3.10/dist-packages (from chromadb) (4.1.3)\n",
            "Requirement already satisfied: typer>=0.9.0 in /usr/local/lib/python3.10/dist-packages (from chromadb) (0.12.3)\n",
            "Requirement already satisfied: kubernetes>=28.1.0 in /usr/local/lib/python3.10/dist-packages (from chromadb) (29.0.0)\n",
            "Requirement already satisfied: mmh3>=4.0.1 in /usr/local/lib/python3.10/dist-packages (from chromadb) (4.1.0)\n",
            "Requirement already satisfied: orjson>=3.9.12 in /usr/local/lib/python3.10/dist-packages (from chromadb) (3.10.3)\n",
            "Requirement already satisfied: aiosignal>=1.1.2 in /usr/local/lib/python3.10/dist-packages (from aiohttp<4.0.0,>=3.8.3->langchain) (1.3.1)\n",
            "Requirement already satisfied: attrs>=17.3.0 in /usr/local/lib/python3.10/dist-packages (from aiohttp<4.0.0,>=3.8.3->langchain) (23.2.0)\n",
            "Requirement already satisfied: frozenlist>=1.1.1 in /usr/local/lib/python3.10/dist-packages (from aiohttp<4.0.0,>=3.8.3->langchain) (1.4.1)\n",
            "Requirement already satisfied: multidict<7.0,>=4.5 in /usr/local/lib/python3.10/dist-packages (from aiohttp<4.0.0,>=3.8.3->langchain) (6.0.5)\n",
            "Requirement already satisfied: yarl<2.0,>=1.0 in /usr/local/lib/python3.10/dist-packages (from aiohttp<4.0.0,>=3.8.3->langchain) (1.9.4)\n",
            "Requirement already satisfied: pyproject_hooks in /usr/local/lib/python3.10/dist-packages (from build>=1.0.3->chromadb) (1.1.0)\n",
            "Requirement already satisfied: tomli>=1.1.0 in /usr/local/lib/python3.10/dist-packages (from build>=1.0.3->chromadb) (2.0.1)\n",
            "Requirement already satisfied: marshmallow<4.0.0,>=3.18.0 in /usr/local/lib/python3.10/dist-packages (from dataclasses-json<0.7,>=0.5.7->langchain_community) (3.21.2)\n",
            "Requirement already satisfied: typing-inspect<1,>=0.4.0 in /usr/local/lib/python3.10/dist-packages (from dataclasses-json<0.7,>=0.5.7->langchain_community) (0.9.0)\n",
            "Requirement already satisfied: starlette<0.38.0,>=0.37.2 in /usr/local/lib/python3.10/dist-packages (from fastapi>=0.95.2->chromadb) (0.37.2)\n",
            "Requirement already satisfied: fastapi-cli>=0.0.2 in /usr/local/lib/python3.10/dist-packages (from fastapi>=0.95.2->chromadb) (0.0.4)\n",
            "Requirement already satisfied: httpx>=0.23.0 in /usr/local/lib/python3.10/dist-packages (from fastapi>=0.95.2->chromadb) (0.27.0)\n",
            "Requirement already satisfied: jinja2>=2.11.2 in /usr/local/lib/python3.10/dist-packages (from fastapi>=0.95.2->chromadb) (3.1.4)\n",
            "Requirement already satisfied: python-multipart>=0.0.7 in /usr/local/lib/python3.10/dist-packages (from fastapi>=0.95.2->chromadb) (0.0.9)\n",
            "Requirement already satisfied: ujson!=4.0.2,!=4.1.0,!=4.2.0,!=4.3.0,!=5.0.0,!=5.1.0,>=4.0.1 in /usr/local/lib/python3.10/dist-packages (from fastapi>=0.95.2->chromadb) (5.10.0)\n",
            "Requirement already satisfied: email_validator>=2.0.0 in /usr/local/lib/python3.10/dist-packages (from fastapi>=0.95.2->chromadb) (2.1.1)\n",
            "Requirement already satisfied: jsonpointer>=1.9 in /usr/local/lib/python3.10/dist-packages (from jsonpatch<2.0,>=1.33->langchain_core) (2.4)\n",
            "Requirement already satisfied: certifi>=14.05.14 in /usr/local/lib/python3.10/dist-packages (from kubernetes>=28.1.0->chromadb) (2024.2.2)\n",
            "Requirement already satisfied: six>=1.9.0 in /usr/local/lib/python3.10/dist-packages (from kubernetes>=28.1.0->chromadb) (1.16.0)\n",
            "Requirement already satisfied: python-dateutil>=2.5.3 in /usr/local/lib/python3.10/dist-packages (from kubernetes>=28.1.0->chromadb) (2.8.2)\n",
            "Requirement already satisfied: google-auth>=1.0.1 in /usr/local/lib/python3.10/dist-packages (from kubernetes>=28.1.0->chromadb) (2.27.0)\n",
            "Requirement already satisfied: websocket-client!=0.40.0,!=0.41.*,!=0.42.*,>=0.32.0 in /usr/local/lib/python3.10/dist-packages (from kubernetes>=28.1.0->chromadb) (1.8.0)\n",
            "Requirement already satisfied: requests-oauthlib in /usr/local/lib/python3.10/dist-packages (from kubernetes>=28.1.0->chromadb) (1.3.1)\n",
            "Requirement already satisfied: oauthlib>=3.2.2 in /usr/local/lib/python3.10/dist-packages (from kubernetes>=28.1.0->chromadb) (3.2.2)\n",
            "Requirement already satisfied: urllib3>=1.24.2 in /usr/local/lib/python3.10/dist-packages (from kubernetes>=28.1.0->chromadb) (2.0.7)\n",
            "Requirement already satisfied: coloredlogs in /usr/local/lib/python3.10/dist-packages (from onnxruntime>=1.14.1->chromadb) (15.0.1)\n",
            "Requirement already satisfied: flatbuffers in /usr/local/lib/python3.10/dist-packages (from onnxruntime>=1.14.1->chromadb) (24.3.25)\n",
            "Requirement already satisfied: protobuf in /usr/local/lib/python3.10/dist-packages (from onnxruntime>=1.14.1->chromadb) (3.20.3)\n",
            "Requirement already satisfied: sympy in /usr/local/lib/python3.10/dist-packages (from onnxruntime>=1.14.1->chromadb) (1.12)\n",
            "Requirement already satisfied: anyio<5,>=3.5.0 in /usr/local/lib/python3.10/dist-packages (from openai<2.0.0,>=1.26.0->langchain-openai) (3.7.1)\n",
            "Requirement already satisfied: distro<2,>=1.7.0 in /usr/lib/python3/dist-packages (from openai<2.0.0,>=1.26.0->langchain-openai) (1.7.0)\n",
            "Requirement already satisfied: sniffio in /usr/local/lib/python3.10/dist-packages (from openai<2.0.0,>=1.26.0->langchain-openai) (1.3.1)\n",
            "Requirement already satisfied: deprecated>=1.2.6 in /usr/local/lib/python3.10/dist-packages (from opentelemetry-api>=1.2.0->chromadb) (1.2.14)\n",
            "Requirement already satisfied: importlib-metadata<=7.0,>=6.0 in /usr/local/lib/python3.10/dist-packages (from opentelemetry-api>=1.2.0->chromadb) (7.0.0)\n",
            "Requirement already satisfied: googleapis-common-protos~=1.52 in /usr/local/lib/python3.10/dist-packages (from opentelemetry-exporter-otlp-proto-grpc>=1.2.0->chromadb) (1.63.0)\n",
            "Requirement already satisfied: opentelemetry-exporter-otlp-proto-common==1.24.0 in /usr/local/lib/python3.10/dist-packages (from opentelemetry-exporter-otlp-proto-grpc>=1.2.0->chromadb) (1.24.0)\n",
            "Requirement already satisfied: opentelemetry-proto==1.24.0 in /usr/local/lib/python3.10/dist-packages (from opentelemetry-exporter-otlp-proto-grpc>=1.2.0->chromadb) (1.24.0)\n",
            "Requirement already satisfied: opentelemetry-instrumentation-asgi==0.45b0 in /usr/local/lib/python3.10/dist-packages (from opentelemetry-instrumentation-fastapi>=0.41b0->chromadb) (0.45b0)\n",
            "Requirement already satisfied: opentelemetry-instrumentation==0.45b0 in /usr/local/lib/python3.10/dist-packages (from opentelemetry-instrumentation-fastapi>=0.41b0->chromadb) (0.45b0)\n",
            "Requirement already satisfied: opentelemetry-semantic-conventions==0.45b0 in /usr/local/lib/python3.10/dist-packages (from opentelemetry-instrumentation-fastapi>=0.41b0->chromadb) (0.45b0)\n",
            "Requirement already satisfied: opentelemetry-util-http==0.45b0 in /usr/local/lib/python3.10/dist-packages (from opentelemetry-instrumentation-fastapi>=0.41b0->chromadb) (0.45b0)\n",
            "Requirement already satisfied: setuptools>=16.0 in /usr/local/lib/python3.10/dist-packages (from opentelemetry-instrumentation==0.45b0->opentelemetry-instrumentation-fastapi>=0.41b0->chromadb) (67.7.2)\n",
            "Requirement already satisfied: wrapt<2.0.0,>=1.0.0 in /usr/local/lib/python3.10/dist-packages (from opentelemetry-instrumentation==0.45b0->opentelemetry-instrumentation-fastapi>=0.41b0->chromadb) (1.14.1)\n",
            "Requirement already satisfied: asgiref~=3.0 in /usr/local/lib/python3.10/dist-packages (from opentelemetry-instrumentation-asgi==0.45b0->opentelemetry-instrumentation-fastapi>=0.41b0->chromadb) (3.8.1)\n",
            "Requirement already satisfied: monotonic>=1.5 in /usr/local/lib/python3.10/dist-packages (from posthog>=2.4.0->chromadb) (1.6)\n",
            "Requirement already satisfied: backoff>=1.10.0 in /usr/local/lib/python3.10/dist-packages (from posthog>=2.4.0->chromadb) (2.2.1)\n",
            "Requirement already satisfied: annotated-types>=0.4.0 in /usr/local/lib/python3.10/dist-packages (from pydantic<3,>=1->langchain) (0.7.0)\n",
            "Requirement already satisfied: pydantic-core==2.18.2 in /usr/local/lib/python3.10/dist-packages (from pydantic<3,>=1->langchain) (2.18.2)\n",
            "Requirement already satisfied: charset-normalizer<4,>=2 in /usr/local/lib/python3.10/dist-packages (from requests<3,>=2->langchain) (3.3.2)\n",
            "Requirement already satisfied: idna<4,>=2.5 in /usr/local/lib/python3.10/dist-packages (from requests<3,>=2->langchain) (3.7)\n",
            "Requirement already satisfied: greenlet!=0.4.17 in /usr/local/lib/python3.10/dist-packages (from SQLAlchemy<3,>=1.4->langchain) (3.0.3)\n",
            "Requirement already satisfied: regex>=2022.1.18 in /usr/local/lib/python3.10/dist-packages (from tiktoken<1,>=0.7->langchain-openai) (2024.5.15)\n",
            "Requirement already satisfied: huggingface-hub<1.0,>=0.16.4 in /usr/local/lib/python3.10/dist-packages (from tokenizers>=0.13.2->chromadb) (0.23.1)\n",
            "Requirement already satisfied: click>=8.0.0 in /usr/local/lib/python3.10/dist-packages (from typer>=0.9.0->chromadb) (8.1.7)\n",
            "Requirement already satisfied: shellingham>=1.3.0 in /usr/local/lib/python3.10/dist-packages (from typer>=0.9.0->chromadb) (1.5.4)\n",
            "Requirement already satisfied: rich>=10.11.0 in /usr/local/lib/python3.10/dist-packages (from typer>=0.9.0->chromadb) (13.7.1)\n",
            "Requirement already satisfied: h11>=0.8 in /usr/local/lib/python3.10/dist-packages (from uvicorn[standard]>=0.18.3->chromadb) (0.14.0)\n",
            "Requirement already satisfied: httptools>=0.5.0 in /usr/local/lib/python3.10/dist-packages (from uvicorn[standard]>=0.18.3->chromadb) (0.6.1)\n",
            "Requirement already satisfied: python-dotenv>=0.13 in /usr/local/lib/python3.10/dist-packages (from uvicorn[standard]>=0.18.3->chromadb) (1.0.1)\n",
            "Requirement already satisfied: uvloop!=0.15.0,!=0.15.1,>=0.14.0 in /usr/local/lib/python3.10/dist-packages (from uvicorn[standard]>=0.18.3->chromadb) (0.19.0)\n",
            "Requirement already satisfied: watchfiles>=0.13 in /usr/local/lib/python3.10/dist-packages (from uvicorn[standard]>=0.18.3->chromadb) (0.22.0)\n",
            "Requirement already satisfied: websockets>=10.4 in /usr/local/lib/python3.10/dist-packages (from uvicorn[standard]>=0.18.3->chromadb) (12.0)\n",
            "Requirement already satisfied: exceptiongroup in /usr/local/lib/python3.10/dist-packages (from anyio<5,>=3.5.0->openai<2.0.0,>=1.26.0->langchain-openai) (1.2.1)\n",
            "Requirement already satisfied: dnspython>=2.0.0 in /usr/local/lib/python3.10/dist-packages (from email_validator>=2.0.0->fastapi>=0.95.2->chromadb) (2.6.1)\n",
            "Requirement already satisfied: cachetools<6.0,>=2.0.0 in /usr/local/lib/python3.10/dist-packages (from google-auth>=1.0.1->kubernetes>=28.1.0->chromadb) (5.3.3)\n",
            "Requirement already satisfied: pyasn1-modules>=0.2.1 in /usr/local/lib/python3.10/dist-packages (from google-auth>=1.0.1->kubernetes>=28.1.0->chromadb) (0.4.0)\n",
            "Requirement already satisfied: rsa<5,>=3.1.4 in /usr/local/lib/python3.10/dist-packages (from google-auth>=1.0.1->kubernetes>=28.1.0->chromadb) (4.9)\n",
            "Requirement already satisfied: httpcore==1.* in /usr/local/lib/python3.10/dist-packages (from httpx>=0.23.0->fastapi>=0.95.2->chromadb) (1.0.5)\n",
            "Requirement already satisfied: filelock in /usr/local/lib/python3.10/dist-packages (from huggingface-hub<1.0,>=0.16.4->tokenizers>=0.13.2->chromadb) (3.14.0)\n",
            "Requirement already satisfied: fsspec>=2023.5.0 in /usr/local/lib/python3.10/dist-packages (from huggingface-hub<1.0,>=0.16.4->tokenizers>=0.13.2->chromadb) (2023.6.0)\n",
            "Requirement already satisfied: zipp>=0.5 in /usr/local/lib/python3.10/dist-packages (from importlib-metadata<=7.0,>=6.0->opentelemetry-api>=1.2.0->chromadb) (3.18.2)\n",
            "Requirement already satisfied: MarkupSafe>=2.0 in /usr/local/lib/python3.10/dist-packages (from jinja2>=2.11.2->fastapi>=0.95.2->chromadb) (2.1.5)\n",
            "Requirement already satisfied: markdown-it-py>=2.2.0 in /usr/local/lib/python3.10/dist-packages (from rich>=10.11.0->typer>=0.9.0->chromadb) (3.0.0)\n",
            "Requirement already satisfied: pygments<3.0.0,>=2.13.0 in /usr/local/lib/python3.10/dist-packages (from rich>=10.11.0->typer>=0.9.0->chromadb) (2.16.1)\n",
            "Requirement already satisfied: mypy-extensions>=0.3.0 in /usr/local/lib/python3.10/dist-packages (from typing-inspect<1,>=0.4.0->dataclasses-json<0.7,>=0.5.7->langchain_community) (1.0.0)\n",
            "Requirement already satisfied: humanfriendly>=9.1 in /usr/local/lib/python3.10/dist-packages (from coloredlogs->onnxruntime>=1.14.1->chromadb) (10.0)\n",
            "Requirement already satisfied: mpmath>=0.19 in /usr/local/lib/python3.10/dist-packages (from sympy->onnxruntime>=1.14.1->chromadb) (1.3.0)\n",
            "Requirement already satisfied: mdurl~=0.1 in /usr/local/lib/python3.10/dist-packages (from markdown-it-py>=2.2.0->rich>=10.11.0->typer>=0.9.0->chromadb) (0.1.2)\n",
            "Requirement already satisfied: pyasn1<0.7.0,>=0.4.6 in /usr/local/lib/python3.10/dist-packages (from pyasn1-modules>=0.2.1->google-auth>=1.0.1->kubernetes>=28.1.0->chromadb) (0.6.0)\n"
          ]
        }
      ],
      "source": [
        "!pip install langchain langchain-openai langchain_community langchain_core chromadb"
      ]
    },
    {
      "cell_type": "markdown",
      "id": "b119e29d",
      "metadata": {
        "id": "b119e29d"
      },
      "source": [
        "> Restart kernel before continue"
      ]
    },
    {
      "cell_type": "code",
      "execution_count": null,
      "id": "6554fd4c",
      "metadata": {
        "id": "6554fd4c"
      },
      "outputs": [],
      "source": [
        "from langchain_openai  import OpenAI, OpenAIEmbeddings\n",
        "\n",
        "from langchain_community.document_loaders import TextLoader\n",
        "\n",
        "from langchain.prompts import PromptTemplate, ChatPromptTemplate, MessagesPlaceholder\n",
        "from langchain.text_splitter import RecursiveCharacterTextSplitter\n",
        "from langchain.vectorstores import Chroma\n",
        "from langchain.memory import ChatMessageHistory\n",
        "\n",
        "from langchain_core.runnables  import RunnablePassthrough, Runnable\n",
        "from langchain_core.output_parsers import StrOutputParser\n",
        "\n",
        "from operator import itemgetter\n",
        "\n",
        "import os\n",
        "import pandas as pd"
      ]
    },
    {
      "cell_type": "code",
      "execution_count": null,
      "id": "2dbf9f77",
      "metadata": {
        "id": "2dbf9f77"
      },
      "outputs": [],
      "source": [
        "os.environ['OPENAI_API_KEY'] = \"YOUR_API_KEY\"\n",
        "llm = OpenAI(temperature =  1, max_tokens = 3700)\n",
        "llm_personalize = OpenAI(temperature =  0, max_tokens = 3700)"
      ]
    },
    {
      "cell_type": "markdown",
      "id": "2cff0c0e",
      "metadata": {
        "id": "2cff0c0e"
      },
      "source": [
        "## Step 2: Generating Real Estate Listings"
      ]
    },
    {
      "cell_type": "markdown",
      "id": "62a506d1",
      "metadata": {},
      "source": [
        "* Generate real estate listings using a Large Language Model. Generate at least 10 listings This can involve creating prompts for the LLM to produce descriptions of various properties. An example of a listing might be:\n",
        "* You'll use these listings to populate the database for testing and development of \"HomeMatch\".    "
      ]
    },
    {
      "cell_type": "code",
      "execution_count": null,
      "id": "2f4b89d8",
      "metadata": {
        "id": "2f4b89d8"
      },
      "outputs": [],
      "source": [
        "# define template\n",
        "template = \"\"\"{question}\n",
        "###\n",
        "Neighborhood: Green Oaks,\n",
        "Price: $800,000,\n",
        "Bedrooms: 3,\n",
        "Bathrooms: 2,\n",
        "House Size: 2,000 sqft,\n",
        "Description: Welcome to this eco-friendly oasis nestled in the heart of Green Oaks. This charming 3-bedroom, 2-bathroom home boasts energy-efficient features such as solar panels and a well-insulated structure.\n",
        "Neighborhood Description: Green Oaks is a close-knit, environmentally-conscious community with access to organic grocery stores, community gardens, and bike paths.\n",
        "###\n",
        "\n",
        "Make sure the 'Description:  your answer' has at least 50 words.\n",
        "Make sure the 'Neighborhood Description: your answer' has  at least 50 words.\n",
        "\"\"\"\n",
        "\n",
        "prompt = PromptTemplate.from_template(template)\n",
        "\n",
        "llm_chain = prompt | llm\n",
        "\n",
        "# set parameter for question\n",
        "input_num = 15\n",
        "place =\"U.S.A,\"\n",
        "\n",
        "question = f\"\"\"\n",
        "Generate {input_num} real estate listing for buyer in American English.\n",
        "Restriction:\n",
        "Real estate is located in {place}\n",
        "Listing is seperated by ---.\n",
        "Your answer format is below.\n",
        "\"\"\"\n",
        "listings = llm_chain.invoke(question)"
      ]
    },
    {
      "cell_type": "code",
      "execution_count": null,
      "id": "TvIIyIAGZJ1-",
      "metadata": {
        "colab": {
          "base_uri": "https://localhost:8080/"
        },
        "id": "TvIIyIAGZJ1-",
        "outputId": "7c70868c-6b17-4f2f-c9bf-b606eb021f98"
      },
      "outputs": [
        {
          "data": {
            "text/plain": [
              "16"
            ]
          },
          "execution_count": 5,
          "metadata": {},
          "output_type": "execute_result"
        }
      ],
      "source": [
        "# create lambda function to separate listing \n",
        "separater = lambda x: x.split(\"Neighborhood:\")\n",
        "\n",
        "# ensure 10 listings by passing thourough while loop\n",
        "while len(separater(listings))<10:\n",
        "  listings += llm_chain.invoke(question)\n",
        "\n",
        "len(separater(listings))"
      ]
    },
    {
      "cell_type": "code",
      "execution_count": null,
      "id": "1d102e07",
      "metadata": {
        "id": "1d102e07"
      },
      "outputs": [],
      "source": [
        "# write text file to load listing.txt\n",
        "with open(\"listings.txt\", 'w') as f:\n",
        "    f.write(listings)"
      ]
    },
    {
      "cell_type": "markdown",
      "id": "6d0874b1",
      "metadata": {
        "id": "6d0874b1"
      },
      "source": [
        "## Step 3: Storing Listings in a Vector Database"
      ]
    },
    {
      "cell_type": "markdown",
      "id": "9d9456c8",
      "metadata": {},
      "source": [
        "* Vector Database Setup: Initialize and configure ChromaDB or a similar vector database to store real estate listings.\n",
        "* Generating and Storing Embeddings: Convert the LLM-generated listings into suitable embeddings that capture the semantic content of each listing, and store these embeddings in the vector database."
      ]
    },
    {
      "cell_type": "code",
      "execution_count": null,
      "id": "36249982",
      "metadata": {
        "id": "36249982"
      },
      "outputs": [],
      "source": [
        "# load text by using loader\n",
        "loader = TextLoader(\"./listings.txt\")\n",
        "docs = loader.load()\n",
        "\n",
        "# split text with chunck\n",
        "splitter = RecursiveCharacterTextSplitter(chunk_size = 1000, chunk_overlap = 100 )\n",
        "split_docs = splitter.split_documents(docs)\n",
        "\n",
        "# create embeddings for similarity search\n",
        "embeddings = OpenAIEmbeddings(model=\"text-embedding-ada-002\")\n",
        "\n",
        "# create vector database\n",
        "db = Chroma.from_documents(split_docs, embeddings)"
      ]
    },
    {
      "cell_type": "code",
      "execution_count": null,
      "id": "20ee0f59",
      "metadata": {
        "colab": {
          "base_uri": "https://localhost:8080/",
          "height": 104
        },
        "id": "20ee0f59",
        "outputId": "8ea8fca7-7ec7-49f5-c807-d0755785cff6"
      },
      "outputs": [
        {
          "data": {
            "application/vnd.google.colaboratory.intrinsic+json": {
              "type": "string"
            },
            "text/plain": [
              "\"---\\n\\nNeighborhood: Downtown Los Angeles,\\nPrice: $1,200,000,\\nBedrooms: 2,\\nBathrooms: 2,\\nHouse Size: 1,500 sqft,\\nDescription: Live in the heart of the bustling city with this 2-bedroom, 2-bathroom condo in downtown Los Angeles. This stunning unit boasts floor-to-ceiling windows, modern finishes, and breathtaking views of the city skyline. Enjoy the convenience of being walking distance to restaurants, shops, and entertainment.\\nNeighborhood Description: Downtown Los Angeles is a vibrant and diverse neighborhood, offering a mix of historic landmarks, contemporary buildings, and cultural attractions. With a thriving nightlife and access to public transportation, it's a popular choice for young professionals and urban enthusiasts.\\n\\n---\""
            ]
          },
          "execution_count": 9,
          "metadata": {},
          "output_type": "execute_result"
        }
      ],
      "source": [
        "# simirality search example\n",
        "query = \"2 bedroom\"\n",
        "db.similarity_search(query)[0].page_content"
      ]
    },
    {
      "cell_type": "markdown",
      "id": "848ab74e",
      "metadata": {
        "id": "848ab74e"
      },
      "source": [
        "## Step 4: Building the User Preference Interface\n"
      ]
    },
    {
      "cell_type": "markdown",
      "id": "b6855018",
      "metadata": {},
      "source": [
        "* Collect buyer preferences, such as the number of bedrooms, bathrooms, location, and other specific requirements from a set of questions or telling the buyer to enter their preferences in natural language. You can hard-code the buyer preferences in questions and answers, or collect them interactively however you'd like, example:"
      ]
    },
    {
      "cell_type": "code",
      "execution_count": null,
      "id": "93b4b62e",
      "metadata": {
        "id": "93b4b62e"
      },
      "outputs": [],
      "source": [
        "questions = [\n",
        "    \"How big do you want your house to be?\"\n",
        "    \"What are 3 most important things for you in choosing this property?\",\n",
        "    \"Which amenities would you like?\",\n",
        "    \"Which transportation options are important to you?\",\n",
        "    \"How urban do you want your neighborhood to be?\",\n",
        "            ]\n",
        "answers = [\n",
        "    \"A comfortable three-bedroom house with a spacious kitchen and a cozy living room.\",\n",
        "    \"A quiet neighborhood, good local schools, and convenient shopping options.\",\n",
        "    \"A backyard for gardening, a two-car garage, and a modern, energy-efficient heating system.\",\n",
        "    \"Easy access to a reliable bus line, proximity to a major highway, and bike-friendly roads.\",\n",
        "    \"A balance between suburban tranquility and access to urban amenities like restaurants and theaters.\"\n",
        "    ]"
      ]
    },
    {
      "cell_type": "markdown",
      "id": "117224f4",
      "metadata": {},
      "source": [
        "* Buyer Preference Parsing: Implement logic to interpret and structure these preferences for querying the vector database.\n",
        "    "
      ]
    },
    {
      "cell_type": "markdown",
      "id": "668ee6a2",
      "metadata": {
        "id": "668ee6a2"
      },
      "source": [
        "## Step 5: Searching Based on Preferences"
      ]
    },
    {
      "cell_type": "markdown",
      "id": "58bccc87",
      "metadata": {},
      "source": [
        "* Semantic Search Implementation: Use the structured buyer preferences to perform a semantic search on the vector database, retrieving listings that most closely match the user's requirements.\n",
        "* Listing Retrieval Logic: Fine-tune the retrieval algorithm to ensure that the most relevant listings are selected based on the semantic closeness to the buyer’s preferences.\n"
      ]
    },
    {
      "cell_type": "code",
      "execution_count": null,
      "id": "1003ce04",
      "metadata": {
        "colab": {
          "base_uri": "https://localhost:8080/",
          "height": 104
        },
        "id": "1003ce04",
        "outputId": "d46ae93a-12a5-48a5-b82f-348ca16f10a1"
      },
      "outputs": [
        {
          "data": {
            "application/vnd.google.colaboratory.intrinsic+json": {
              "type": "string"
            },
            "text/plain": [
              "\"---\\n\\nNeighborhood: Austin, Texas,\\nPrice: $600,000,\\nBedrooms: 3,\\nBathrooms: 2,\\nHouse Size: 2,000 sqft,\\nDescription: Embrace the vibrant city of Austin with this modern and spacious 3-bedroom, 2-bathroom home. Located in a hip and trendy neighborhood, this property offers an open floor plan, high-end finishes, and easy access to local hot spots, parks, and trails.\\nNeighborhood Description: Austin is a culturally-rich and dynamic city with a thriving music and arts scene, a wide variety of outdoor activities, and plenty of local shops and restaurants to explore. It's a popular choice for creatives, young professionals, and families seeking a laid-back and unique lifestyle.\\n\\n---\""
            ]
          },
          "execution_count": 11,
          "metadata": {},
          "output_type": "execute_result"
        }
      ],
      "source": [
        "docs = []\n",
        "\n",
        "for answer in answers:\n",
        "    # to ensure most closely match the user's requirements set k=1\n",
        "    retriever = db.as_retriever(search_type=\"similarity\", search_kwargs={\"k\": 1})\n",
        "    docs.extend(retriever.invoke(answer))\n",
        "\n",
        "# show example\n",
        "docs[0].page_content"
      ]
    },
    {
      "cell_type": "markdown",
      "id": "6af66645",
      "metadata": {
        "id": "6af66645"
      },
      "source": [
        "## Step 6: Personalizing Listing Descriptions"
      ]
    },
    {
      "cell_type": "markdown",
      "id": "b92d6130",
      "metadata": {},
      "source": [
        "* LLM Augmentation: For each retrieved listing, use the LLM to augment the description, tailoring it to resonate with the buyer’s specific preferences. This involves subtly emphasizing aspects of the property that align with what the buyer is looking for.\n",
        "* Maintaining Factual Integrity: Ensure that the augmentation process enhances the appeal of the listing without altering factual information."
      ]
    },
    {
      "cell_type": "code",
      "execution_count": null,
      "id": "6b6972b8",
      "metadata": {
        "id": "6b6972b8"
      },
      "outputs": [],
      "source": [
        "def format_docs(docs):\n",
        "    return \"\\n\\n\".join(doc.page_content for doc in docs)"
      ]
    },
    {
      "cell_type": "code",
      "execution_count": null,
      "id": "4b7fa14a",
      "metadata": {
        "colab": {
          "base_uri": "https://localhost:8080/"
        },
        "id": "4b7fa14a",
        "outputId": "b3156302-ee18-446a-af5b-02fc60aa70f4"
      },
      "outputs": [
        {
          "data": {
            "text/plain": [
              "ChatPromptTemplate(input_variables=['context', 'messages', 'question'], input_types={'messages': typing.List[typing.Union[langchain_core.messages.ai.AIMessage, langchain_core.messages.human.HumanMessage, langchain_core.messages.chat.ChatMessage, langchain_core.messages.system.SystemMessage, langchain_core.messages.function.FunctionMessage, langchain_core.messages.tool.ToolMessage]]}, messages=[SystemMessagePromptTemplate(prompt=PromptTemplate(input_variables=['context'], template=\"\\n                You are a professional real estate agent. According Buyer's Needs, emphasize key points and feature.\\n                Context :{context}\\n            \")), MessagesPlaceholder(variable_name='messages'), HumanMessagePromptTemplate(prompt=PromptTemplate(input_variables=['question'], template='{question}'))])"
            ]
          },
          "execution_count": 13,
          "metadata": {},
          "output_type": "execute_result"
        }
      ],
      "source": [
        "prompt = ChatPromptTemplate.from_messages(\n",
        "    [\n",
        "        (\n",
        "            \"system\",\n",
        "            \"\"\"\n",
        "                You are a professional real estate agent. According Buyer's Needs, emphasize key points and feature.\n",
        "                Context :{context}\n",
        "            \"\"\",\n",
        "        ),\n",
        "        MessagesPlaceholder(variable_name=\"messages\"),\n",
        "        (\"user\", \"{question}\")\n",
        "    ]\n",
        ")\n",
        "\n",
        "prompt"
      ]
    },
    {
      "cell_type": "code",
      "execution_count": null,
      "id": "cd7fea38",
      "metadata": {
        "id": "cd7fea38"
      },
      "outputs": [],
      "source": [
        "history = ChatMessageHistory()\n",
        "\n",
        "for i, messeage in enumerate(questions):\n",
        "    history.add_ai_message(questions[i])\n",
        "    history.add_user_message(answers[i])\n",
        "\n",
        "rag_chain = (\n",
        "    {\"context\": retriever | format_docs, \"question\": RunnablePassthrough(),  \"messages\": lambda x: history.messages}\n",
        "    | prompt\n",
        "    | llm_personalize\n",
        "    | StrOutputParser()\n",
        ")"
      ]
    },
    {
      "cell_type": "code",
      "execution_count": null,
      "id": "4be54d23",
      "metadata": {
        "id": "4be54d23"
      },
      "outputs": [],
      "source": [
        "response = rag_chain.invoke(\"Get pesonalized answer\")"
      ]
    },
    {
      "cell_type": "code",
      "execution_count": null,
      "id": "FWpGovLf50Qe",
      "metadata": {
        "colab": {
          "base_uri": "https://localhost:8080/",
          "height": 87
        },
        "id": "FWpGovLf50Qe",
        "outputId": "72fc0822-d588-4af1-ddcc-45dc661171b9"
      },
      "outputs": [
        {
          "data": {
            "application/vnd.google.colaboratory.intrinsic+json": {
              "type": "string"
            },
            "text/plain": [
              "'\\nAI: Based on your preferences, this stunning 4-bedroom townhouse in the prestigious Upper East Side neighborhood would be the perfect fit for you. With a spacious kitchen and cozy living room, this 3,500 sqft home offers the perfect balance of comfort and style. The neighborhood is known for its upscale atmosphere and is conveniently located near top-rated schools and upscale shops and restaurants. Additionally, the private rooftop terrace and easy access to transportation options make this property a desirable choice for families and professionals alike.'"
            ]
          },
          "execution_count": 16,
          "metadata": {},
          "output_type": "execute_result"
        }
      ],
      "source": [
        "response"
      ]
    },
    {
      "cell_type": "code",
      "execution_count": null,
      "id": "hm7ZaqoAyeZG",
      "metadata": {
        "id": "hm7ZaqoAyeZG"
      },
      "outputs": [],
      "source": [
        "del db"
      ]
    },
    {
      "cell_type": "markdown",
      "id": "397d232e",
      "metadata": {
        "id": "397d232e"
      },
      "source": [
        "## Reference\n",
        "\n",
        "* [LangChain official](https://python.langchain.com/v0.1/docs/get_started/introduction)\n",
        "    * [Document loaders](https://python.langchain.com/v0.1/docs/modules/data_connection/document_loaders/)\n",
        "    <br>\n",
        "    * [Text Splitters](https://python.langchain.com/v0.1/docs/modules/data_connection/document_transformers/)\n",
        "    <br>\n",
        "    * [Retriever](https://python.langchain.com/v0.1/docs/modules/data_connection/retrievers/)\n",
        "    <br>\n",
        "    * [Use cases](https://python.langchain.com/v0.1/docs/use_cases/)\n"
      ]
    },
    {
      "cell_type": "code",
      "execution_count": null,
      "id": "3286a152",
      "metadata": {
        "id": "3286a152"
      },
      "outputs": [],
      "source": []
    }
  ],
  "metadata": {
    "colab": {
      "provenance": []
    },
    "kernelspec": {
      "display_name": "Python 3 (ipykernel)",
      "language": "python",
      "name": "python3"
    },
    "language_info": {
      "codemirror_mode": {
        "name": "ipython",
        "version": 3
      },
      "file_extension": ".py",
      "mimetype": "text/x-python",
      "name": "python",
      "nbconvert_exporter": "python",
      "pygments_lexer": "ipython3",
      "version": "3.10.11"
    }
  },
  "nbformat": 4,
  "nbformat_minor": 5
}
